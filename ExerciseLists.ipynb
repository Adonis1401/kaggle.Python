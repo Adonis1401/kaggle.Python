{
 "cells": [
  {
   "cell_type": "code",
   "execution_count": null,
   "metadata": {
    "id": "EbSgvQNldXwJ"
   },
   "outputs": [],
   "source": [
    "from learntools.core import binder; binder.bind(globals())\n",
    "from learntools.python.ex4 import *\n",
    "print('Setup complete.')"
   ]
  },
  {
   "cell_type": "code",
   "execution_count": null,
   "metadata": {
    "id": "5hgo3bmphnNE"
   },
   "outputs": [],
   "source": [
    "def select_second(L):\n",
    "    \"\"\"Return the second element of the given list. If the list has no second\n",
    "    element, return None.\n",
    "    \"\"\"\n",
    "    pass\n",
    "\n",
    "# Check your answer\n",
    "q1.check()"
   ]
  },
  {
   "cell_type": "code",
   "execution_count": null,
   "metadata": {
    "id": "h0hxxCVFiwVz"
   },
   "outputs": [],
   "source": [
    "def losing_team_captain(teams):\n",
    "    \"\"\"Given a list of teams, where each team is a list of names, return the 2nd player (captain)\n",
    "    from the last listed team\n",
    "    \"\"\"\n",
    "    pass\n",
    "\n",
    "# Check your answer\n",
    "q2.check()"
   ]
  },
  {
   "cell_type": "code",
   "execution_count": null,
   "metadata": {
    "id": "CeY857WkizU8"
   },
   "outputs": [],
   "source": [
    "def purple_shell(racers):\n",
    "    \"\"\"Given a list of racers, set the first place racer (at the front of the list) to last\n",
    "    place and vice versa.\n",
    "\n",
    "    >>> r = [\"Mario\", \"Bowser\", \"Luigi\"]\n",
    "    >>> purple_shell(r)\n",
    "    >>> r\n",
    "    [\"Luigi\", \"Bowser\", \"Mario\"]\n",
    "    \"\"\"\n",
    "    pass\n",
    "\n",
    "# Check your answer\n",
    "q3.check()"
   ]
  },
  {
   "cell_type": "code",
   "execution_count": null,
   "metadata": {
    "id": "SfUhHtI6i3ZE"
   },
   "outputs": [],
   "source": [
    "a = [1, 2, 3]\n",
    "b = [1, [2, 3]]\n",
    "c = []\n",
    "d = [1, 2, 3][1:]\n",
    "\n",
    "# Put your predictions in the list below. Lengths should contain 4 numbers, the\n",
    "# first being the length of a, the second being the length of b and so on.\n",
    "lengths = []\n",
    "\n",
    "# Check your answer\n",
    "q4.check()"
   ]
  },
  {
   "cell_type": "code",
   "execution_count": null,
   "metadata": {
    "id": "K_ihkKTKi510"
   },
   "outputs": [],
   "source": [
    "def fashionably_late(arrivals, name):\n",
    "    \"\"\"Given an ordered list of arrivals to the party and a name, return whether the guest with that\n",
    "    name was fashionably late.\n",
    "    \"\"\"\n",
    "    pass\n",
    "\n",
    "# Check your answer\n",
    "q5.check()"
   ]
  }
 ],
 "metadata": {
  "colab": {
   "authorship_tag": "ABX9TyOEum3b9Qo5E5J1Uz0Vqpk5",
   "provenance": [
    {
     "file_id": "1wKuEhDvaoOX0gqLXn_EwTNL31fWF0pXj",
     "timestamp": 1692041474896
    },
    {
     "file_id": "1kObDSE95CaZ1yjg6RqCOAYLL4lM1IS9b",
     "timestamp": 1692040869119
    },
    {
     "file_id": "1FkjqZbgXc8eN5GzlO1ELqg_aqI1jGVp5",
     "timestamp": 1692040578934
    },
    {
     "file_id": "11OTuOMFJdgS5kKSFCRlyLmUxUpS2BEDI",
     "timestamp": 1692039780516
    },
    {
     "file_id": "1GzjPGNfhkp4Bn91QCKYiAAJvBOGSXbBG",
     "timestamp": 1692038602706
    },
    {
     "file_id": "18suA-Mhmb-kWQPw8StE8kMjZqDgIwLa7",
     "timestamp": 1692037262358
    },
    {
     "file_id": "1lpm5Fw2ubKqbtThHoVQGL8WwBoZ8E1rw",
     "timestamp": 1692035885177
    }
   ]
  },
  "kernelspec": {
   "display_name": "Python 3 (ipykernel)",
   "language": "python",
   "name": "python3"
  },
  "language_info": {
   "codemirror_mode": {
    "name": "ipython",
    "version": 3
   },
   "file_extension": ".py",
   "mimetype": "text/x-python",
   "name": "python",
   "nbconvert_exporter": "python",
   "pygments_lexer": "ipython3",
   "version": "3.11.4"
  }
 },
 "nbformat": 4,
 "nbformat_minor": 1
}
